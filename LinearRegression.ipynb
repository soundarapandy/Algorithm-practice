{
 "cells": [
  {
   "cell_type": "code",
   "execution_count": 1,
   "metadata": {},
   "outputs": [],
   "source": [
    "import numpy as np"
   ]
  },
  {
   "cell_type": "code",
   "execution_count": 2,
   "metadata": {},
   "outputs": [],
   "source": [
    "import pandas as pd"
   ]
  },
  {
   "cell_type": "code",
   "execution_count": 3,
   "metadata": {},
   "outputs": [],
   "source": [
    "import matplotlib.pyplot as plt"
   ]
  },
  {
   "cell_type": "code",
   "execution_count": 4,
   "metadata": {},
   "outputs": [],
   "source": [
    "from sklearn.preprocessing import StandardScaler, MinMaxScaler\n",
    "from sklearn.linear_model import LinearRegression\n"
   ]
  },
  {
   "cell_type": "code",
   "execution_count": 5,
   "metadata": {},
   "outputs": [],
   "source": [
    "float_formatter = lambda x: \"%.4f\" % x\n",
    "np.set_printoptions(formatter={'float_kind':float_formatter})\n",
    "\n",
    "scaler = StandardScaler()\n",
    "normalizer = MinMaxScaler()\n"
   ]
  },
  {
   "cell_type": "code",
   "execution_count": 6,
   "metadata": {},
   "outputs": [],
   "source": [
    "#Simple Linear Regression y = mX + c\n",
    "#- Data is completely co-related with output\n",
    "#- Here if X and y are normalized then , then both becomes equal (if and only X and y are completely co-related)"
   ]
  },
  {
   "cell_type": "code",
   "execution_count": 7,
   "metadata": {},
   "outputs": [
    {
     "name": "stdout",
     "output_type": "stream",
     "text": [
      "[[1]\n",
      " [2]\n",
      " [3]\n",
      " [4]\n",
      " [5]\n",
      " [6]] [[15]\n",
      " [25]\n",
      " [35]\n",
      " [45]\n",
      " [55]\n",
      " [65]]\n"
     ]
    },
    {
     "data": {
      "text/plain": [
       "<matplotlib.collections.PathCollection at 0x2031a49c518>"
      ]
     },
     "execution_count": 7,
     "metadata": {},
     "output_type": "execute_result"
    },
    {
     "data": {
      "image/png": "[encoded data removed]",
      "text/plain": [
       "<Figure size 432x288 with 1 Axes>"
      ]
     },
     "metadata": {
      "needs_background": "light"
     },
     "output_type": "display_data"
    }
   ],
   "source": [
    "limit =4+3\n",
    "x = np.array([x for x in range(1,limit)]).reshape(-1,1)\n",
    "y = np.array([x*10 + 5 for x in range(1,limit)]).reshape(-1,1)\n",
    "\n",
    "print(x,y)\n",
    "plt.scatter(x,y)\n"
   ]
  },
  {
   "cell_type": "code",
   "execution_count": 8,
   "metadata": {},
   "outputs": [
    {
     "data": {
      "text/plain": [
       "array([[1, 2],\n",
       "       [3, 4],\n",
       "       [5, 6],\n",
       "       [7, 8]])"
      ]
     },
     "execution_count": 8,
     "metadata": {},
     "output_type": "execute_result"
    }
   ],
   "source": [
    "s = 3*3\n",
    "\n",
    "x = np.array([x for x in range(1,s)]).reshape(4,2)\n",
    "x"
   ]
  },
  {
   "cell_type": "code",
   "execution_count": 9,
   "metadata": {},
   "outputs": [
    {
     "data": {
      "text/plain": [
       "array([[-2,  0,  2,  4],\n",
       "       [ 6,  8, 10, 12]])"
      ]
     },
     "execution_count": 9,
     "metadata": {},
     "output_type": "execute_result"
    }
   ],
   "source": [
    "y = np.array([x*2-4 for x in range(1,s)]).reshape(2,4)\n",
    "y"
   ]
  },
  {
   "cell_type": "code",
   "execution_count": 10,
   "metadata": {},
   "outputs": [
    {
     "data": {
      "text/plain": [
       "<matplotlib.collections.PathCollection at 0x2031a537780>"
      ]
     },
     "execution_count": 10,
     "metadata": {},
     "output_type": "execute_result"
    },
    {
     "data": {
      "image/png": "[encoded data removed]",
      "text/plain": [
       "<Figure size 432x288 with 1 Axes>"
      ]
     },
     "metadata": {
      "needs_background": "light"
     },
     "output_type": "display_data"
    }
   ],
   "source": [
    "plt.scatter(y,x)"
   ]
  },
  {
   "cell_type": "code",
   "execution_count": 11,
   "metadata": {},
   "outputs": [],
   "source": [
    "#No Pre_Processing (No Standardization and Normalization)\n",
    "#- Without Scaling it Simple Linear Regression Works fine \n",
    "#- But When u Normalize the data , the X and y becomes EQUAL , i.e intercept=0 and coefficient = 1"
   ]
  },
  {
   "cell_type": "code",
   "execution_count": 12,
   "metadata": {},
   "outputs": [],
   "source": [
    "x = np.array([x for x in range(1,6)]).reshape(-1,1)\n",
    "y = np.array([y for y in range(1,6)]).reshape(-1,1)             \n",
    "             "
   ]
  },
  {
   "cell_type": "code",
   "execution_count": 13,
   "metadata": {},
   "outputs": [
    {
     "name": "stdout",
     "output_type": "stream",
     "text": [
      "[[1]\n",
      " [2]\n",
      " [3]\n",
      " [4]\n",
      " [5]] [[1]\n",
      " [2]\n",
      " [3]\n",
      " [4]\n",
      " [5]]\n"
     ]
    },
    {
     "data": {
      "text/plain": [
       "<matplotlib.collections.PathCollection at 0x2031a5ac4a8>"
      ]
     },
     "execution_count": 13,
     "metadata": {},
     "output_type": "execute_result"
    },
    {
     "data": {
      "image/png": "[encoded data removed]",
      "text/plain": [
       "<Figure size 432x288 with 1 Axes>"
      ]
     },
     "metadata": {
      "needs_background": "light"
     },
     "output_type": "display_data"
    }
   ],
   "source": [
    "print(x,y)\n",
    "\n",
    "plt.scatter(x,y)"
   ]
  },
  {
   "cell_type": "code",
   "execution_count": 14,
   "metadata": {},
   "outputs": [],
   "source": [
    "x = np.array([x for x in range(1,6)]).reshape(-1,1)\n",
    "y = np.array([x*4+3 for x in range(1,6)]).reshape(-1,1)"
   ]
  },
  {
   "cell_type": "code",
   "execution_count": 15,
   "metadata": {},
   "outputs": [
    {
     "name": "stdout",
     "output_type": "stream",
     "text": [
      "[[1]\n",
      " [2]\n",
      " [3]\n",
      " [4]\n",
      " [5]] [[ 7]\n",
      " [11]\n",
      " [15]\n",
      " [19]\n",
      " [23]]\n"
     ]
    },
    {
     "data": {
      "text/plain": [
       "<matplotlib.collections.PathCollection at 0x2031a61b4a8>"
      ]
     },
     "execution_count": 15,
     "metadata": {},
     "output_type": "execute_result"
    },
    {
     "data": {
      "image/png": "[encoded data removed]",
      "text/plain": [
       "<Figure size 432x288 with 1 Axes>"
      ]
     },
     "metadata": {
      "needs_background": "light"
     },
     "output_type": "display_data"
    }
   ],
   "source": [
    "print(x,y)\n",
    "plt.scatter(x,y)"
   ]
  },
  {
   "cell_type": "code",
   "execution_count": 16,
   "metadata": {},
   "outputs": [
    {
     "name": "stdout",
     "output_type": "stream",
     "text": [
      "Intercept(C) = [3.0000] \n",
      " Co_efficient = [[4.0000]]\n",
      "predicting : [[11.0000]\n",
      " [15.0000]\n",
      " [19.0000]]\n"
     ]
    }
   ],
   "source": [
    "ln_reg = LinearRegression()\n",
    "\n",
    "ln_reg.fit(x,y)\n",
    "print(\"Intercept(C) = {} \\n Co_efficient = {}\".format(ln_reg.intercept_ , ln_reg.coef_))\n",
    "\n",
    "pred_value = ln_reg.predict([[2], [3], [4]])\n",
    "print(\"predicting : {}\".format(pred_value))"
   ]
  },
  {
   "cell_type": "code",
   "execution_count": 17,
   "metadata": {},
   "outputs": [],
   "source": [
    "#Normalized Input and Output¶\n",
    "#-  But When u Normalize the data , the X and y becomes EQUAL , i.e intercept=0 and coefficient = 1"
   ]
  },
  {
   "cell_type": "code",
   "execution_count": 18,
   "metadata": {},
   "outputs": [
    {
     "name": "stdout",
     "output_type": "stream",
     "text": [
      "[[0.0000]\n",
      " [0.2500]\n",
      " [0.5000]\n",
      " [0.7500]\n",
      " [1.0000]] [[0.0000]\n",
      " [0.2500]\n",
      " [0.5000]\n",
      " [0.7500]\n",
      " [1.0000]]\n",
      "Intercept(C) =[0.0000] \n",
      " co_eff =[[1.0000]]\n",
      "predicting :[[2.0000]]\n"
     ]
    },
    {
     "name": "stderr",
     "output_type": "stream",
     "text": [
      "C:\\Users\\user\\Anaconda3\\lib\\site-packages\\sklearn\\utils\\validation.py:595: DataConversionWarning: Data with input dtype int32 was converted to float64 by MinMaxScaler.\n",
      "  warnings.warn(msg, DataConversionWarning)\n",
      "C:\\Users\\user\\Anaconda3\\lib\\site-packages\\sklearn\\utils\\validation.py:595: DataConversionWarning: Data with input dtype int32 was converted to float64 by MinMaxScaler.\n",
      "  warnings.warn(msg, DataConversionWarning)\n"
     ]
    }
   ],
   "source": [
    "x_normal = normalizer.fit_transform(x)\n",
    "y_normal = normalizer.fit_transform(y)\n",
    "print(x_normal, y_normal)\n",
    "ln_reg = LinearRegression()\n",
    "ln_reg.fit(x_normal,y_normal)\n",
    "\n",
    "print(\"Intercept(C) ={} \\n co_eff ={}\".format(ln_reg.intercept_,ln_reg.coef_))\n",
    "\n",
    "pred_value = ln_reg.predict([[2]])\n",
    "print(\"predicting :{}\".format(pred_value))"
   ]
  },
  {
   "cell_type": "code",
   "execution_count": 19,
   "metadata": {},
   "outputs": [
    {
     "name": "stdout",
     "output_type": "stream",
     "text": [
      "[[1]\n",
      " [2]\n",
      " [3]\n",
      " [4]\n",
      " [5]] [[ 6]\n",
      " [ 9]\n",
      " [17]\n",
      " [ 9]\n",
      " [25]]\n"
     ]
    },
    {
     "data": {
      "text/plain": [
       "<matplotlib.collections.PathCollection at 0x2031a8f90f0>"
      ]
     },
     "execution_count": 19,
     "metadata": {},
     "output_type": "execute_result"
    },
    {
     "data": {
      "image/png": "[encoded data removed]",
      "text/plain": [
       "<Figure size 432x288 with 1 Axes>"
      ]
     },
     "metadata": {
      "needs_background": "light"
     },
     "output_type": "display_data"
    }
   ],
   "source": [
    "limit = 5 + 1\n",
    "X = np.array([x for x in range(1, limit)]).reshape(-1, 1)\n",
    "y = np.array([x*np.random.randint(1,5) + 5 for x in range(1, limit)]).reshape(-1, 1)\n",
    "\n",
    "print(X, y)\n",
    "plt.scatter(X, y)"
   ]
  },
  {
   "cell_type": "code",
   "execution_count": 20,
   "metadata": {},
   "outputs": [
    {
     "data": {
      "text/plain": [
       "array([[1.0000, 2.0000, 3.0000],\n",
       "       [3.0000, 4.0000, 5.0000],\n",
       "       [2.0000, 6.0000, 5.0000]])"
      ]
     },
     "execution_count": 20,
     "metadata": {},
     "output_type": "execute_result"
    }
   ],
   "source": [
    "from sklearn import preprocessing\n",
    "x = np.array([[1.,2.,3.],\n",
    "            [3.,4.,5.],\n",
    "            [2.,6.,5.]])\n",
    "x"
   ]
  },
  {
   "cell_type": "code",
   "execution_count": 21,
   "metadata": {},
   "outputs": [
    {
     "data": {
      "text/plain": [
       "array([[-1.2247, -1.2247, -1.4142],\n",
       "       [1.2247, 0.0000, 0.7071],\n",
       "       [0.0000, 1.2247, 0.7071]])"
      ]
     },
     "execution_count": 21,
     "metadata": {},
     "output_type": "execute_result"
    }
   ],
   "source": [
    "y = preprocessing.scale(x)\n",
    "y"
   ]
  },
  {
   "cell_type": "code",
   "execution_count": 22,
   "metadata": {},
   "outputs": [
    {
     "data": {
      "text/plain": [
       "array([[0.8093, 0.4228, 0.0720, 0.6689],\n",
       "       [0.3263, 0.5711, 0.6953, 0.8292],\n",
       "       [0.2328, 0.4685, 0.0250, 0.3767]])"
      ]
     },
     "execution_count": 22,
     "metadata": {},
     "output_type": "execute_result"
    }
   ],
   "source": [
    "a = np.random.rand(3,4)\n",
    "a"
   ]
  },
  {
   "cell_type": "code",
   "execution_count": 23,
   "metadata": {},
   "outputs": [
    {
     "data": {
      "text/plain": [
       "array([[1.3980, -1.0428, -0.6288, 0.2346],\n",
       "       [-0.5140, 1.3487, 1.4114, 1.0905],\n",
       "       [-0.8840, -0.3058, -0.7826, -1.3251]])"
      ]
     },
     "execution_count": 23,
     "metadata": {},
     "output_type": "execute_result"
    }
   ],
   "source": [
    "s = preprocessing.scale(a)\n",
    "s"
   ]
  },
  {
   "cell_type": "code",
   "execution_count": 24,
   "metadata": {},
   "outputs": [
    {
     "data": {
      "text/plain": [
       "array([-0.0000, -0.0000, -0.0000, -0.0000])"
      ]
     },
     "execution_count": 24,
     "metadata": {},
     "output_type": "execute_result"
    }
   ],
   "source": [
    "s.mean(axis=0)"
   ]
  },
  {
   "cell_type": "code",
   "execution_count": 25,
   "metadata": {},
   "outputs": [
    {
     "data": {
      "text/plain": [
       "array([0.9343, 0.7876, 0.3622])"
      ]
     },
     "execution_count": 25,
     "metadata": {},
     "output_type": "execute_result"
    }
   ],
   "source": [
    "s.std(axis=1)"
   ]
  },
  {
   "cell_type": "code",
   "execution_count": null,
   "metadata": {},
   "outputs": [],
   "source": []
  },
  {
   "cell_type": "code",
   "execution_count": 26,
   "metadata": {},
   "outputs": [
    {
     "data": {
      "text/plain": [
       "array([[0.8260, 0.0946, 0.8234, 0.0990, 0.5790],\n",
       "       [0.4307, 0.9818, 0.1137, 0.5619, 0.2719],\n",
       "       [0.5719, 0.7403, 0.9706, 0.0217, 0.1147],\n",
       "       [0.5595, 0.5925, 0.5656, 0.5359, 0.5102]])"
      ]
     },
     "execution_count": 26,
     "metadata": {},
     "output_type": "execute_result"
    }
   ],
   "source": [
    "x = np.random.rand(4,5)\n",
    "x"
   ]
  },
  {
   "cell_type": "code",
   "execution_count": 27,
   "metadata": {},
   "outputs": [
    {
     "data": {
      "text/plain": [
       "array([[1.0000, 0.0000, 0.8282, 0.1432, 1.0000],\n",
       "       [0.0000, 1.0000, 0.0000, 1.0000, 0.3386],\n",
       "       [0.3571, 0.7278, 1.0000, 0.0000, 0.0000],\n",
       "       [0.3259, 0.5612, 0.5274, 0.9518, 0.8518]])"
      ]
     },
     "execution_count": 27,
     "metadata": {},
     "output_type": "execute_result"
    }
   ],
   "source": [
    "y = preprocessing.MinMaxScaler()\n",
    "z = y.fit_transform(x)\n",
    "z"
   ]
  },
  {
   "cell_type": "code",
   "execution_count": 28,
   "metadata": {},
   "outputs": [
    {
     "data": {
      "text/plain": [
       "array([[0.0000, 0.0000, 0.0000],\n",
       "       [1.0000, 1.0000, 1.0000]])"
      ]
     },
     "execution_count": 28,
     "metadata": {},
     "output_type": "execute_result"
    }
   ],
   "source": [
    "x = np.random.rand(2,3)\n",
    "y = preprocessing.MinMaxScaler()\n",
    "z = y.fit_transform(x)\n",
    "z"
   ]
  },
  {
   "cell_type": "code",
   "execution_count": 29,
   "metadata": {},
   "outputs": [
    {
     "data": {
      "text/plain": [
       "array([1.6419, 4.7713, 13.0091])"
      ]
     },
     "execution_count": 29,
     "metadata": {},
     "output_type": "execute_result"
    }
   ],
   "source": [
    "y.scale_"
   ]
  },
  {
   "cell_type": "code",
   "execution_count": 30,
   "metadata": {},
   "outputs": [
    {
     "data": {
      "text/plain": [
       "array([-0.5433, -2.1047, -4.8118])"
      ]
     },
     "execution_count": 30,
     "metadata": {},
     "output_type": "execute_result"
    }
   ],
   "source": [
    "y.min_"
   ]
  },
  {
   "cell_type": "code",
   "execution_count": 31,
   "metadata": {},
   "outputs": [
    {
     "data": {
      "text/plain": [
       "array([[0.6854, 0.2738, 0.7687],\n",
       "       [0.3143, 0.1978, 0.3219]])"
      ]
     },
     "execution_count": 31,
     "metadata": {},
     "output_type": "execute_result"
    }
   ],
   "source": [
    "x = np.random.rand(2,3)\n",
    "y = preprocessing.MaxAbsScaler()\n",
    "z = y.fit_transform(x)\n",
    "x"
   ]
  },
  {
   "cell_type": "code",
   "execution_count": 32,
   "metadata": {},
   "outputs": [
    {
     "data": {
      "text/plain": [
       "array([[0.0000, 1.0000, 0.0000],\n",
       "       [1.0000, 0.0000, 1.0000]])"
      ]
     },
     "execution_count": 32,
     "metadata": {},
     "output_type": "execute_result"
    }
   ],
   "source": [
    "x = np.random.rand(2,3)\n",
    "y = normalizer.fit_transform(x)\n",
    "y"
   ]
  },
  {
   "cell_type": "code",
   "execution_count": 33,
   "metadata": {},
   "outputs": [
    {
     "data": {
      "text/plain": [
       "array([[1.0000, -1.0000, 1.0000],\n",
       "       [-1.0000, 1.0000, -1.0000]])"
      ]
     },
     "execution_count": 33,
     "metadata": {},
     "output_type": "execute_result"
    }
   ],
   "source": [
    "x = np.random.rand(2,3)\n",
    "y = scaler.fit_transform(x)\n",
    "y"
   ]
  },
  {
   "cell_type": "code",
   "execution_count": 34,
   "metadata": {},
   "outputs": [],
   "source": [
    "x = np.array(np.random.rand(2,3))\n",
    "y = np.array(np.random.rand(2,3))\n",
    "a = normalizer.fit_transform(x)\n",
    "b = normalizer.fit_transform(y)"
   ]
  },
  {
   "cell_type": "code",
   "execution_count": 35,
   "metadata": {},
   "outputs": [
    {
     "name": "stdout",
     "output_type": "stream",
     "text": [
      "[[0.0000 1.0000 1.0000]\n",
      " [1.0000 0.0000 0.0000]] [[1.0000 1.0000 0.0000]\n",
      " [0.0000 0.0000 1.0000]]\n"
     ]
    }
   ],
   "source": [
    "print(a,b)"
   ]
  },
  {
   "cell_type": "code",
   "execution_count": 36,
   "metadata": {},
   "outputs": [],
   "source": [
    "x = np.array(np.random.rand(2,3))\n",
    "y = np.array(np.random.rand(2,3))\n",
    "a = scaler.fit_transform(x)\n",
    "b = scaler.fit_transform(y)"
   ]
  },
  {
   "cell_type": "code",
   "execution_count": 37,
   "metadata": {},
   "outputs": [
    {
     "name": "stdout",
     "output_type": "stream",
     "text": [
      "[[1.0000 -1.0000 1.0000]\n",
      " [-1.0000 1.0000 -1.0000]] [[1.0000 -1.0000 -1.0000]\n",
      " [-1.0000 1.0000 1.0000]]\n"
     ]
    }
   ],
   "source": [
    "print(a,b)"
   ]
  },
  {
   "cell_type": "code",
   "execution_count": 38,
   "metadata": {},
   "outputs": [
    {
     "name": "stdout",
     "output_type": "stream",
     "text": [
      "[[0.6647]\n",
      " [0.1077]\n",
      " [0.6399]\n",
      " [0.6169]\n",
      " [0.1693]\n",
      " [0.8716]\n",
      " [0.1003]\n",
      " [0.1663]]\n",
      "[[0.2586]\n",
      " [0.1062]\n",
      " [0.6926]\n",
      " [0.5398]\n",
      " [0.1285]\n",
      " [0.4595]\n",
      " [0.2804]\n",
      " [0.8974]]\n"
     ]
    }
   ],
   "source": [
    "x = np.random.rand(2,4).reshape(-1,1)\n",
    "y = np.random.rand(2,4).reshape(-1,1)\n",
    "print(x)\n",
    "print(y)"
   ]
  },
  {
   "cell_type": "code",
   "execution_count": 39,
   "metadata": {},
   "outputs": [
    {
     "name": "stdout",
     "output_type": "stream",
     "text": [
      "intercept =[0.3241] \n",
      " co_eff=[[0.2309]]\n",
      "predicting :[[0.7858]\n",
      " [1.0167]\n",
      " [1.2476]]\n"
     ]
    }
   ],
   "source": [
    "ln_reg = LinearRegression()\n",
    "\n",
    "ln_reg.fit(x,y)\n",
    "print(\"intercept ={} \\n co_eff={}\".format(ln_reg.intercept_,ln_reg.coef_))\n",
    "      \n",
    "pred_value = ln_reg.predict([[2],[3],[4]])\n",
    "print(\"predicting :{}\".format(pred_value))"
   ]
  },
  {
   "cell_type": "code",
   "execution_count": 40,
   "metadata": {},
   "outputs": [
    {
     "name": "stdout",
     "output_type": "stream",
     "text": [
      "[[0.0000]\n",
      " [0.2500]\n",
      " [0.5000]\n",
      " [0.7500]\n",
      " [1.0000]] [[0.2586]\n",
      " [0.1062]\n",
      " [0.6926]\n",
      " [0.5398]\n",
      " [0.1285]\n",
      " [0.4595]\n",
      " [0.2804]\n",
      " [0.8974]]\n",
      "intercept =[0.3472] \n",
      " co_eff=[[0.1781]]\n",
      "predicting :[[1.5938]\n",
      " [1.0595]]\n"
     ]
    }
   ],
   "source": [
    "x_noraml = normalizer.fit_transform(x)\n",
    "y_normal = y\n",
    "\n",
    "print(x_normal,y_normal)\n",
    "\n",
    "ln_reg = LinearRegression()\n",
    "ln_reg.fit(x_noraml,y_normal)\n",
    "\n",
    "print(\"intercept ={} \\n co_eff={}\".format(ln_reg.intercept_,ln_reg.coef_))\n",
    "\n",
    "pred_value = ln_reg.predict([[7],[4]])\n",
    "print(\"predicting :{}\".format(pred_value))"
   ]
  },
  {
   "cell_type": "code",
   "execution_count": 41,
   "metadata": {},
   "outputs": [
    {
     "name": "stdout",
     "output_type": "stream",
     "text": [
      "[[0.6647]\n",
      " [0.1077]\n",
      " [0.6399]\n",
      " [0.6169]\n",
      " [0.1693]\n",
      " [0.8716]\n",
      " [0.1003]\n",
      " [0.1663]] [[-0.6185]\n",
      " [-1.2015]\n",
      " [1.0408]\n",
      " [0.4568]\n",
      " [-1.1162]\n",
      " [0.1497]\n",
      " [-0.5351]\n",
      " [1.8240]]\n",
      "intercept =[-0.3682] \n",
      " co_eff = [[0.8828]]\n",
      "prediction : [[2.2802]]\n"
     ]
    }
   ],
   "source": [
    "y_scaler = scaler.fit_transform(y)\n",
    "x\n",
    "\n",
    "print(x,y_scaler)\n",
    "\n",
    "ln_reg = LinearRegression()\n",
    "ln_reg.fit(x,y_scaler)\n",
    "\n",
    "print(\"intercept ={} \\n co_eff = {}\".format(ln_reg.intercept_,ln_reg.coef_))\n",
    "\n",
    "pred_value = ln_reg.predict([[3]])\n",
    "print(\"prediction : {}\".format(pred_value))"
   ]
  },
  {
   "cell_type": "code",
   "execution_count": 42,
   "metadata": {},
   "outputs": [
    {
     "name": "stdout",
     "output_type": "stream",
     "text": [
      "[[1]\n",
      " [2]\n",
      " [3]\n",
      " [4]] [[4]\n",
      " [3]\n",
      " [7]\n",
      " [1]]\n"
     ]
    },
    {
     "data": {
      "text/plain": [
       "<matplotlib.collections.PathCollection at 0x2031a96cef0>"
      ]
     },
     "execution_count": 42,
     "metadata": {},
     "output_type": "execute_result"
    },
    {
     "data": {
      "image/png": "[encoded data removed]",
      "text/plain": [
       "<Figure size 432x288 with 1 Axes>"
      ]
     },
     "metadata": {
      "needs_background": "light"
     },
     "output_type": "display_data"
    }
   ],
   "source": [
    "x =np.array([x for x in range(1,5)]).reshape(-1,1)\n",
    "y = np.array([np.random.randint(1,9) for x in range(1,5)]).reshape(-1,1)\n",
    "print(x,y)\n",
    "plt.scatter(x,y)"
   ]
  }
 ],
 "metadata": {
  "kernelspec": {
   "display_name": "Python 3",
   "language": "python",
   "name": "python3"
  },
  "language_info": {
   "codemirror_mode": {
    "name": "ipython",
    "version": 3
   },
   "file_extension": ".py",
   "mimetype": "text/x-python",
   "name": "python",
   "nbconvert_exporter": "python",
   "pygments_lexer": "ipython3",
   "version": "3.7.3"
  }
 },
 "nbformat": 4,
 "nbformat_minor": 2
}
